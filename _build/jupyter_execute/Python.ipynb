{
 "cells": [
  {
   "cell_type": "markdown",
   "metadata": {
    "colab_type": "text",
    "id": "view-in-github"
   },
   "source": [
    "<a href=\"https://colab.research.google.com/github/Sigerip/curso-data-viz/blob/main/Python.ipynb\" target=\"_parent\"><img src=\"https://colab.research.google.com/assets/colab-badge.svg\" alt=\"Open In Colab\"/></a>"
   ]
  },
  {
   "cell_type": "markdown",
   "metadata": {
    "id": "faRX4XUPDUs_"
   },
   "source": [
    "# 1. Python Básico\n",
    "Neste modulo, abordaremos os conceitos básicos de Python, essenciais para o entendimento do Seaborn e da análise de dados em geral. Vamos explorar os principais tipos de dados, operadores, estruturas de controle e funções.\n",
    "\n",
    "## 1.1 O que é Python?\n",
    "Python é uma linguagem de programação de alto nível, interpretada, de tipagem dinâmica e sintaxe simples. É muito usada em desenvolvimento web, ciência de dados, automação, scripts e muito mais.\n",
    "\n",
    "## 1.2 Primeiros Passos\n",
    "Usaremos o Google Colab para executar os códigos. Acesse Google Colab e crie um novo notebook.\n",
    "\n",
    "Iniciaremos com o print, uma função básica para exibir mensagens na tela. Por exemplo:"
   ]
  },
  {
   "cell_type": "code",
   "execution_count": 1,
   "metadata": {
    "colab": {
     "base_uri": "https://localhost:8080/"
    },
    "id": "4FAfqk2HDQ_M",
    "outputId": "a834147f-f714-49b4-e286-af21634ddf99"
   },
   "outputs": [
    {
     "name": "stdout",
     "output_type": "stream",
     "text": [
      "Olá, mundo!\n"
     ]
    }
   ],
   "source": [
    "print(\"Olá, mundo!\")"
   ]
  },
  {
   "cell_type": "markdown",
   "metadata": {
    "id": "QrvFX5N5D0__"
   },
   "source": [
    "## 1.3 Tipos de Dados Principais\n",
    "* Números: `int` (inteiro), `float` (ponto flutuante/decimal). Exemplo:"
   ]
  },
  {
   "cell_type": "code",
   "execution_count": 2,
   "metadata": {
    "colab": {
     "base_uri": "https://localhost:8080/"
    },
    "id": "M5Uqq4aMENBz",
    "outputId": "8c37ba9d-adc9-4ff7-9d46-c9a8892b3702"
   },
   "outputs": [
    {
     "name": "stdout",
     "output_type": "stream",
     "text": [
      "<class 'int'>\n",
      "<class 'float'>\n"
     ]
    }
   ],
   "source": [
    "idade = 30       # int\n",
    "preco = 19.90    # float\n",
    "print(type(idade))\n",
    "print(type(preco))"
   ]
  },
  {
   "cell_type": "markdown",
   "metadata": {
    "id": "rEDwXicZEtaK"
   },
   "source": [
    "```{note}\n",
    "Nota: O type em Python é uma função que retorna o tipo de um objeto.\n",
    "```\n",
    "* **Strings:** são texto entre aspas, podendo ser aspas simples ou duplas. Podem conter letras, números e símbolos. Exemplo:"
   ]
  },
  {
   "cell_type": "code",
   "execution_count": 3,
   "metadata": {
    "colab": {
     "base_uri": "https://localhost:8080/"
    },
    "id": "cGNoq_sMFAMF",
    "outputId": "f55c87fb-b15d-44ab-c42a-3f199c5e5343"
   },
   "outputs": [
    {
     "name": "stdout",
     "output_type": "stream",
     "text": [
      "<class 'str'>\n",
      "<class 'str'>\n"
     ]
    }
   ],
   "source": [
    "nome = \"Alice\"\n",
    "mensagem = 'Olá, mundo!'\n",
    "print(type(nome))\n",
    "print(type(mensagem))"
   ]
  },
  {
   "cell_type": "markdown",
   "metadata": {
    "id": "zQfB0jUYGITy"
   },
   "source": [
    "* **Booleanos (bool):** True (verdadeiro), False (falso). Serve para representar estados lógicos, como ligado/desligado, verdadeiro/falso. Exemplo:"
   ]
  },
  {
   "cell_type": "code",
   "execution_count": 4,
   "metadata": {
    "colab": {
     "base_uri": "https://localhost:8080/"
    },
    "id": "sjqMsU3-GNQA",
    "outputId": "b1b710b8-d21e-43fa-91ff-35d860700a88"
   },
   "outputs": [
    {
     "name": "stdout",
     "output_type": "stream",
     "text": [
      "<class 'bool'>\n"
     ]
    }
   ],
   "source": [
    "ligado = True\n",
    "desligado = False\n",
    "print(type(ligado))"
   ]
  },
  {
   "cell_type": "markdown",
   "metadata": {
    "id": "7mu0SoLzGZJW"
   },
   "source": [
    "* **Listas:** sequência ordenada, representadas por colchetes. Podem conter diferentes tipos de dados. Exemplo:"
   ]
  },
  {
   "cell_type": "code",
   "execution_count": 5,
   "metadata": {
    "colab": {
     "base_uri": "https://localhost:8080/"
    },
    "id": "FV8WVienGfU_",
    "outputId": "9d9e55a7-10cf-463c-c247-288a153110a6"
   },
   "outputs": [
    {
     "name": "stdout",
     "output_type": "stream",
     "text": [
      "<class 'list'>\n",
      "['maçã', 'banana', 'laranja'] [1, 2, 3, 4, 5]\n"
     ]
    }
   ],
   "source": [
    "frutas = [\"maçã\", \"banana\", \"laranja\"]\n",
    "numeros = [1, 2, 3, 4, 5]\n",
    "print(type(frutas))\n",
    "print(frutas, numeros)"
   ]
  },
  {
   "cell_type": "markdown",
   "metadata": {
    "id": "k_zVchmYGq0L"
   },
   "source": [
    "* **Tuplas:** sequência imutável, sendo assim, não podem ser alteradas após a criação. Representadas por parênteses. Exemplo:"
   ]
  },
  {
   "cell_type": "code",
   "execution_count": 6,
   "metadata": {
    "colab": {
     "base_uri": "https://localhost:8080/"
    },
    "id": "zHf0o_iDGlhL",
    "outputId": "685737b5-3189-4edd-fbb8-5c40126cc764"
   },
   "outputs": [
    {
     "name": "stdout",
     "output_type": "stream",
     "text": [
      "<class 'tuple'>\n",
      "(10.0, 20.0)\n"
     ]
    }
   ],
   "source": [
    "coordenadas = (10.0, 20.0)\n",
    "print(type(coordenadas))\n",
    "print(coordenadas)"
   ]
  },
  {
   "cell_type": "markdown",
   "metadata": {
    "id": "2upe7VlnG5kD"
   },
   "source": [
    "* **Dicionários:** pares chave-valor, representados por chaves. Permitem armazenar dados de forma estruturada. Exemplo:"
   ]
  },
  {
   "cell_type": "code",
   "execution_count": 7,
   "metadata": {
    "colab": {
     "base_uri": "https://localhost:8080/"
    },
    "id": "VoKoPth2G-kL",
    "outputId": "82f4b540-a222-492d-b28a-cb6dff08d81b"
   },
   "outputs": [
    {
     "name": "stdout",
     "output_type": "stream",
     "text": [
      "<class 'dict'>\n",
      "{'pessoa1': {'nome': 'Alice', 'idade': 30}, 'pessoa2': {'nome': 'Bob', 'idade': 25}}\n"
     ]
    }
   ],
   "source": [
    "pessoas = {\n",
    "    \"pessoa1\": {\"nome\": \"Alice\", \"idade\": 30},\n",
    "    \"pessoa2\": {\"nome\": \"Bob\", \"idade\": 25}\n",
    "}\n",
    "print(type(pessoas))\n",
    "print(pessoas)"
   ]
  },
  {
   "cell_type": "markdown",
   "metadata": {
    "id": "8jmQd3yBHl0c"
   },
   "source": [
    "## 1.4 Operadores Básicos\n",
    "\n",
    "* **Aritméticos:** `+`, `-`, `*`, `/`, `//` (divisão inteira), `%` (módulo/resto da divisão), `**` (potência).\n",
    "\n",
    "* **Comparação:** igual `==`, diferente `!=`, maior que`>`, menor que `<`, maior ou igual`>=`, menor ou igual `<=`\n",
    "\n",
    "```{note}\n",
    "Um igual `=` é atribuição, dois iguais `==` é comparação.\n",
    "```\n",
    "\n",
    "* **Lógicos:** `and`, `or`, `not`."
   ]
  },
  {
   "cell_type": "code",
   "execution_count": 8,
   "metadata": {
    "colab": {
     "base_uri": "https://localhost:8080/"
    },
    "id": "EpMU3gd6H3SI",
    "outputId": "0d2079ab-7da1-4c61-ada0-ecaa7b4a7d36"
   },
   "outputs": [
    {
     "name": "stdout",
     "output_type": "stream",
     "text": [
      "13\n",
      "1000\n",
      "True\n"
     ]
    }
   ],
   "source": [
    "x = 10\n",
    "y = 3\n",
    "print(x + y)   # 13\n",
    "print(x ** y)  # 1000\n",
    "print(x > y and y > 0)  # True"
   ]
  },
  {
   "cell_type": "markdown",
   "metadata": {
    "id": "dlnXRgYUH9uz"
   },
   "source": [
    "## 1.5 Estruturas de Controle\n",
    "\n",
    "### 1.5.1 Condicionais"
   ]
  },
  {
   "cell_type": "code",
   "execution_count": 9,
   "metadata": {
    "colab": {
     "base_uri": "https://localhost:8080/"
    },
    "id": "invpRYBuIAwq",
    "outputId": "e9c57aa1-f708-4649-f79d-6de54adbb36e"
   },
   "outputs": [
    {
     "name": "stdout",
     "output_type": "stream",
     "text": [
      "Você é maior de idade.\n"
     ]
    }
   ],
   "source": [
    "idade = 18\n",
    "if idade >= 18:\n",
    "    print(\"Você é maior de idade.\")\n",
    "else:\n",
    "    print(\"Você é menor de idade.\")"
   ]
  },
  {
   "cell_type": "markdown",
   "metadata": {
    "id": "vAM8t3kMIDKP"
   },
   "source": [
    "### 1.5.2 Laços de Repetição\n",
    "\n",
    "* **for:** permite iterar sobre uma sequência (lista, tupla, string)."
   ]
  },
  {
   "cell_type": "code",
   "execution_count": 10,
   "metadata": {
    "colab": {
     "base_uri": "https://localhost:8080/"
    },
    "id": "ZmqiwVDMIFS1",
    "outputId": "2928794f-4a61-44eb-8710-15b1b80d51e3"
   },
   "outputs": [
    {
     "name": "stdout",
     "output_type": "stream",
     "text": [
      "Imprime números sequenciais.\n",
      "0\n",
      "1\n",
      "2\n",
      "3\n",
      "4\n",
      "Lista de frutas definida anteriormente: \n",
      "maçã\n",
      "banana\n",
      "laranja\n"
     ]
    }
   ],
   "source": [
    "print(\"Imprime números sequenciais.\")\n",
    "for i in range(5):\n",
    "    print(i)\n",
    "print(\"Lista de frutas definida anteriormente: \")\n",
    "for fruta in frutas:\n",
    "    print(fruta)"
   ]
  },
  {
   "cell_type": "markdown",
   "metadata": {
    "id": "DEmnVir8IIR6"
   },
   "source": [
    "```\n",
    "O python inicia a contagem do zero, por isso não foi até o 5 e sim até o 4.\n",
    "```\n",
    "* **while:** executa enquanto a condição for verdadeira."
   ]
  },
  {
   "cell_type": "code",
   "execution_count": 11,
   "metadata": {
    "colab": {
     "base_uri": "https://localhost:8080/"
    },
    "id": "0NrQ2EgzJOTl",
    "outputId": "8947397b-1be4-458a-ae00-7c642d88ce57"
   },
   "outputs": [
    {
     "name": "stdout",
     "output_type": "stream",
     "text": [
      "Conta até o contador chegar a 5 e para.\n",
      "0\n",
      "1\n",
      "2\n",
      "3\n",
      "4\n"
     ]
    }
   ],
   "source": [
    "print(\"Conta até o contador chegar a 5 e para.\")\n",
    "contador = 0\n",
    "while contador < 5:\n",
    "    print(contador)\n",
    "    contador += 1"
   ]
  },
  {
   "cell_type": "markdown",
   "metadata": {
    "id": "oBZQygMGJcPa"
   },
   "source": [
    "## 1.6 Funções\n",
    "\n",
    "Definição e chamada de funções:"
   ]
  },
  {
   "cell_type": "code",
   "execution_count": 12,
   "metadata": {
    "colab": {
     "base_uri": "https://localhost:8080/"
    },
    "id": "tq0bbaOEJiCa",
    "outputId": "4bb9ec2b-b7d5-43de-f611-2aee26eccdcd"
   },
   "outputs": [
    {
     "name": "stdout",
     "output_type": "stream",
     "text": [
      "5\n"
     ]
    }
   ],
   "source": [
    "def soma(a, b):\n",
    "    return a + b\n",
    "\n",
    "resultado = soma(2, 3)\n",
    "print(resultado)"
   ]
  },
  {
   "cell_type": "markdown",
   "metadata": {
    "id": "xYvzprEvJmPF"
   },
   "source": [
    "## 1.7 Módulos e Pacotes\n",
    "\n",
    "Instalar pacotes, exemplo com o pacote `seaborn`:\n",
    "```\n",
    "No Google Colab, quando você quer instalar uma biblioteca, você usa o símbolo % (ou !) antes do comando.\n",
    "```"
   ]
  },
  {
   "cell_type": "code",
   "execution_count": 13,
   "metadata": {
    "colab": {
     "base_uri": "https://localhost:8080/"
    },
    "id": "6R90b_TzJnkZ",
    "outputId": "e0cf8cad-4ec6-4985-84ba-49d6dbc050d5"
   },
   "outputs": [
    {
     "name": "stdout",
     "output_type": "stream",
     "text": [
      "Requirement already satisfied: seaborn in /home/codespace/.local/lib/python3.12/site-packages (0.13.2)\r\n"
     ]
    },
    {
     "name": "stdout",
     "output_type": "stream",
     "text": [
      "Requirement already satisfied: numpy!=1.24.0,>=1.20 in /home/codespace/.local/lib/python3.12/site-packages (from seaborn) (2.2.4)\r\n",
      "Requirement already satisfied: pandas>=1.2 in /home/codespace/.local/lib/python3.12/site-packages (from seaborn) (2.2.3)\r\n",
      "Requirement already satisfied: matplotlib!=3.6.1,>=3.4 in /home/codespace/.local/lib/python3.12/site-packages (from seaborn) (3.10.1)\r\n",
      "Requirement already satisfied: contourpy>=1.0.1 in /home/codespace/.local/lib/python3.12/site-packages (from matplotlib!=3.6.1,>=3.4->seaborn) (1.3.1)\r\n",
      "Requirement already satisfied: cycler>=0.10 in /home/codespace/.local/lib/python3.12/site-packages (from matplotlib!=3.6.1,>=3.4->seaborn) (0.12.1)\r\n",
      "Requirement already satisfied: fonttools>=4.22.0 in /home/codespace/.local/lib/python3.12/site-packages (from matplotlib!=3.6.1,>=3.4->seaborn) (4.57.0)\r\n",
      "Requirement already satisfied: kiwisolver>=1.3.1 in /home/codespace/.local/lib/python3.12/site-packages (from matplotlib!=3.6.1,>=3.4->seaborn) (1.4.8)\r\n",
      "Requirement already satisfied: packaging>=20.0 in /home/codespace/.local/lib/python3.12/site-packages (from matplotlib!=3.6.1,>=3.4->seaborn) (24.2)\r\n",
      "Requirement already satisfied: pillow>=8 in /home/codespace/.local/lib/python3.12/site-packages (from matplotlib!=3.6.1,>=3.4->seaborn) (11.1.0)\r\n",
      "Requirement already satisfied: pyparsing>=2.3.1 in /home/codespace/.local/lib/python3.12/site-packages (from matplotlib!=3.6.1,>=3.4->seaborn) (3.2.3)\r\n",
      "Requirement already satisfied: python-dateutil>=2.7 in /home/codespace/.local/lib/python3.12/site-packages (from matplotlib!=3.6.1,>=3.4->seaborn) (2.9.0.post0)\r\n"
     ]
    },
    {
     "name": "stdout",
     "output_type": "stream",
     "text": [
      "Requirement already satisfied: pytz>=2020.1 in /home/codespace/.local/lib/python3.12/site-packages (from pandas>=1.2->seaborn) (2025.1)\r\n",
      "Requirement already satisfied: tzdata>=2022.7 in /home/codespace/.local/lib/python3.12/site-packages (from pandas>=1.2->seaborn) (2025.1)\r\n",
      "Requirement already satisfied: six>=1.5 in /home/codespace/.local/lib/python3.12/site-packages (from python-dateutil>=2.7->matplotlib!=3.6.1,>=3.4->seaborn) (1.17.0)\r\n"
     ]
    },
    {
     "name": "stdout",
     "output_type": "stream",
     "text": [
      "Note: you may need to restart the kernel to use updated packages.\n"
     ]
    }
   ],
   "source": [
    "%pip install seaborn"
   ]
  },
  {
   "cell_type": "markdown",
   "metadata": {
    "id": "5rB86z2iKqL-"
   },
   "source": [
    "Importar módulo, exemplo com o módulo `seaborn`:"
   ]
  },
  {
   "cell_type": "code",
   "execution_count": 14,
   "metadata": {
    "id": "fr511TLFKqus"
   },
   "outputs": [],
   "source": [
    "import seaborn"
   ]
  }
 ],
 "metadata": {
  "colab": {
   "authorship_tag": "ABX9TyMOhml48O0Wn/Gkjq6IsCOC",
   "include_colab_link": true,
   "provenance": []
  },
  "kernelspec": {
   "display_name": "Python 3",
   "name": "python3"
  },
  "language_info": {
   "codemirror_mode": {
    "name": "ipython",
    "version": 3
   },
   "file_extension": ".py",
   "mimetype": "text/x-python",
   "name": "python",
   "nbconvert_exporter": "python",
   "pygments_lexer": "ipython3",
   "version": "3.12.1"
  }
 },
 "nbformat": 4,
 "nbformat_minor": 0
}