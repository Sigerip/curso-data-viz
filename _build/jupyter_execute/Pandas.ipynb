{
 "cells": [
  {
   "cell_type": "markdown",
   "metadata": {
    "colab_type": "text",
    "id": "view-in-github"
   },
   "source": [
    "<a href=\"https://colab.research.google.com/github/Sigerip/curso-data-viz/blob/main/Pandas.ipynb\" target=\"_parent\"><img src=\"https://colab.research.google.com/assets/colab-badge.svg\" alt=\"Open In Colab\"/></a>"
   ]
  },
  {
   "cell_type": "markdown",
   "metadata": {
    "id": "QOlV0OLOL8e4"
   },
   "source": [
    "# 2. Pandas básico\n",
    "\n",
    "Este módulo apresenta uma visão geral das funcionalidades fundamentais da biblioteca Pandas em Python, voltado para iniciantes.\n",
    "\n",
    "## 2.1 O que é Pandas?\n",
    "\n",
    "Pandas é uma biblioteca de código aberto para manipulação e análise de dados. Ela oferece estruturas de dados eficientes (Series e DataFrame) e diversas funções para leitura, limpeza, transformação e agregação de dados.\n",
    "\n",
    "## 2.2 Instalação\n",
    "\n",
    "Para instalar o Pandas, utilize o pip:"
   ]
  },
  {
   "cell_type": "code",
   "execution_count": 1,
   "metadata": {
    "colab": {
     "base_uri": "https://localhost:8080/"
    },
    "id": "pHUnolNvL3el",
    "outputId": "9a9c8a5f-59c7-4b88-a6ab-3a406b96781a"
   },
   "outputs": [
    {
     "name": "stdout",
     "output_type": "stream",
     "text": [
      "Requirement already satisfied: pandas in /home/codespace/.local/lib/python3.12/site-packages (2.2.3)\r\n",
      "Requirement already satisfied: numpy>=1.26.0 in /home/codespace/.local/lib/python3.12/site-packages (from pandas) (2.2.4)\r\n",
      "Requirement already satisfied: python-dateutil>=2.8.2 in /home/codespace/.local/lib/python3.12/site-packages (from pandas) (2.9.0.post0)\r\n",
      "Requirement already satisfied: pytz>=2020.1 in /home/codespace/.local/lib/python3.12/site-packages (from pandas) (2025.1)\r\n",
      "Requirement already satisfied: tzdata>=2022.7 in /home/codespace/.local/lib/python3.12/site-packages (from pandas) (2025.1)\r\n",
      "Requirement already satisfied: six>=1.5 in /home/codespace/.local/lib/python3.12/site-packages (from python-dateutil>=2.8.2->pandas) (1.17.0)\r\n"
     ]
    },
    {
     "name": "stdout",
     "output_type": "stream",
     "text": [
      "Note: you may need to restart the kernel to use updated packages.\n"
     ]
    }
   ],
   "source": [
    "%pip install pandas"
   ]
  },
  {
   "cell_type": "markdown",
   "metadata": {
    "id": "vh1UUKsfMONW"
   },
   "source": [
    "## 2.3 Importando o Pandas\n",
    "Usamos o `import` para chamar a biblioteca em nosso código. O `as` é utilizado para criar um \"apelídio\" para a biblioteca, sendo uma forma mais simples de chamar a função posteriormente no código."
   ]
  },
  {
   "cell_type": "code",
   "execution_count": 2,
   "metadata": {
    "id": "4BqI7lrNMQXi"
   },
   "outputs": [],
   "source": [
    "import pandas as pd"
   ]
  },
  {
   "cell_type": "markdown",
   "metadata": {
    "id": "jZrNE-MxMZxo"
   },
   "source": [
    "## 2.4 Estruturas de Dados Principais\n",
    "\n",
    "### 2.4.1 Series\n",
    "\n",
    "Uma Series é um array unidimensional rotulado. Ela pode conter qualquer tipo de dado (inteiros, strings, floats, etc.).\n",
    "```\n",
    "Array é um conjunto de valores organizados, como [10, 20, 30, 40], que representa uma lista no Python.\n",
    "```"
   ]
  },
  {
   "cell_type": "code",
   "execution_count": 3,
   "metadata": {
    "colab": {
     "base_uri": "https://localhost:8080/"
    },
    "id": "Z1vwtvu9MdYO",
    "outputId": "f20102e1-ca9b-47eb-bdf5-253a73eb1aae"
   },
   "outputs": [
    {
     "name": "stdout",
     "output_type": "stream",
     "text": [
      "a    10\n",
      "b    20\n",
      "c    30\n",
      "dtype: int64\n"
     ]
    }
   ],
   "source": [
    "s = pd.Series([10, 20, 30], index=['a', 'b', 'c'])\n",
    "print(s)"
   ]
  },
  {
   "cell_type": "markdown",
   "metadata": {
    "id": "olefSK57M7yd"
   },
   "source": [
    "## 2.4.2 DataFrame\n",
    "\n",
    "Um DataFrame é uma tabela bidimensional, semelhante a uma planilha, com linhas e colunas. Ele pode conter diferentes tipos de dados em cada coluna."
   ]
  },
  {
   "cell_type": "code",
   "execution_count": 4,
   "metadata": {
    "colab": {
     "base_uri": "https://localhost:8080/"
    },
    "id": "ZRqUE7wxM8ea",
    "outputId": "cf19e9bc-5316-4118-9a09-082cf03e5b37"
   },
   "outputs": [
    {
     "name": "stdout",
     "output_type": "stream",
     "text": [
      "    Produto  Preço  Estoque\n",
      "0     Arroz   20.0       50\n",
      "1    Feijão    7.5      100\n",
      "2  Macarrão    5.0      200\n"
     ]
    }
   ],
   "source": [
    "df = pd.DataFrame({\n",
    "    'Produto': ['Arroz', 'Feijão', 'Macarrão'],\n",
    "    'Preço': [20.0, 7.5, 5.0],\n",
    "    'Estoque': [50, 100, 200]\n",
    "})\n",
    "print(df)"
   ]
  },
  {
   "cell_type": "markdown",
   "metadata": {
    "id": "sNAh39TqNQYp"
   },
   "source": [
    "## 2.5 Leitura e Escrita de Dados\n",
    "Abaixo estão os principais métodos de ler e salvar arquivos com Pandas.\n",
    "\n",
    "### 2.5.1 CSV\n",
    "```python\n",
    "df = pd.read_csv('dados.csv')         # lê o arquivo CSV\n",
    "df.to_csv('saida.csv', index=False)   # salva o DataFrame em CSV\n",
    "```\n",
    "\n",
    "### 2.5.2 Excel\n",
    "```python\n",
    "df = pd.read_excel('dados.xlsx', sheet_name='Plan1')  # lê o arquivo Excel\n",
    "df.to_excel('saida.xlsx', index=False)                # salva o DataFrame em Excel\n",
    "```\n",
    "\n",
    "### 2.5.3 Outros formatos\n",
    "\n",
    "`parquet:` pd.read_parquet, df.to_parquet\n",
    "\n",
    "`JSON:` pd.read_json, df.to_json\n",
    "\n",
    "`HTML:` pd.read_html\n",
    "\n",
    "`SQL:` pd.read_sql\n",
    "\n",
    "## 2.6 Inspeção Inicial dos Dados\n",
    "Algumas funções úteis para inspecionar os dados logo após a leitura do arquivo:"
   ]
  },
  {
   "cell_type": "code",
   "execution_count": 5,
   "metadata": {
    "colab": {
     "base_uri": "https://localhost:8080/"
    },
    "id": "kLB2IFQQNQzj",
    "outputId": "70df1526-07a7-408a-a069-346f6dc6f717"
   },
   "outputs": [
    {
     "name": "stdout",
     "output_type": "stream",
     "text": [
      "Primeiras 5 linhas\n",
      "    Produto  Preço  Estoque\n",
      "0     Arroz   20.0       50\n",
      "1    Feijão    7.5      100\n",
      "2  Macarrão    5.0      200\n",
      "\n",
      "Últimas 3 linhas\n",
      "    Produto  Preço  Estoque\n",
      "0     Arroz   20.0       50\n",
      "1    Feijão    7.5      100\n",
      "2  Macarrão    5.0      200\n",
      "\n",
      "Número de linhas e colunas\n",
      "(3, 3)\n",
      "\n",
      "tipos e valores nulos\n",
      "<class 'pandas.core.frame.DataFrame'>\n",
      "RangeIndex: 3 entries, 0 to 2\n",
      "Data columns (total 3 columns):\n",
      " #   Column   Non-Null Count  Dtype  \n",
      "---  ------   --------------  -----  \n",
      " 0   Produto  3 non-null      object \n",
      " 1   Preço    3 non-null      float64\n",
      " 2   Estoque  3 non-null      int64  \n",
      "dtypes: float64(1), int64(1), object(1)\n",
      "memory usage: 204.0+ bytes\n",
      "None\n",
      "\n",
      "estatísticas descritivas\n",
      "           Preço     Estoque\n",
      "count   3.000000    3.000000\n",
      "mean   10.833333  116.666667\n",
      "std     8.036376   76.376262\n",
      "min     5.000000   50.000000\n",
      "25%     6.250000   75.000000\n",
      "50%     7.500000  100.000000\n",
      "75%    13.750000  150.000000\n",
      "max    20.000000  200.000000\n"
     ]
    }
   ],
   "source": [
    "print(\"Primeiras 5 linhas\")\n",
    "print(df.head())      # primeiras 5 linhas\n",
    "print(\"\\nÚltimas 3 linhas\")\n",
    "print(df.tail(3))     # últimas 3 linhas\n",
    "print(\"\\nNúmero de linhas e colunas\")\n",
    "print(df.shape)       # linhas e colunas\n",
    "print(\"\\ntipos e valores nulos\")\n",
    "print(df.info())      # tipos e valores nulos\n",
    "print(\"\\nestatísticas descritivas\")\n",
    "print(df.describe())  # estatísticas descritivas"
   ]
  },
  {
   "cell_type": "markdown",
   "metadata": {
    "id": "xizGjuYXOSWx"
   },
   "source": [
    "## 2.7 Seleção e Filtragem\n",
    "\n",
    "### 2.7.1 Seleção de Colunas"
   ]
  },
  {
   "cell_type": "code",
   "execution_count": 6,
   "metadata": {
    "colab": {
     "base_uri": "https://localhost:8080/"
    },
    "id": "sSCrcs3DOSvw",
    "outputId": "3816523d-7ef7-44b2-852e-f3006ab45c36"
   },
   "outputs": [
    {
     "name": "stdout",
     "output_type": "stream",
     "text": [
      "0    20.0\n",
      "1     7.5\n",
      "2     5.0\n",
      "Name: Preço, dtype: float64\n"
     ]
    }
   ],
   "source": [
    "precos = df['Preço']\n",
    "print(precos)"
   ]
  },
  {
   "cell_type": "markdown",
   "metadata": {
    "id": "ZvLvJDSoOXfF"
   },
   "source": [
    "### 2.7.2 Seleção de Linhas por Índice"
   ]
  },
  {
   "cell_type": "code",
   "execution_count": 7,
   "metadata": {
    "colab": {
     "base_uri": "https://localhost:8080/"
    },
    "id": "71SnynK8OZSx",
    "outputId": "656fd194-9299-44ff-e332-9e7d708cbdb1"
   },
   "outputs": [
    {
     "name": "stdout",
     "output_type": "stream",
     "text": [
      "Produto    Arroz\n",
      "Preço       20.0\n",
      "Estoque       50\n",
      "Name: 0, dtype: object\n",
      "Produto    Feijão\n",
      "Preço         7.5\n",
      "Estoque       100\n",
      "Name: 1, dtype: object\n"
     ]
    }
   ],
   "source": [
    "linha0 = df.loc[0]      # rótulo\n",
    "linha1 = df.iloc[1]     # posição\n",
    "print(linha0)\n",
    "print(linha1)"
   ]
  },
  {
   "cell_type": "markdown",
   "metadata": {
    "id": "Lzv736VpOcop"
   },
   "source": [
    "### 2.7.3 Fatiamento"
   ]
  },
  {
   "cell_type": "code",
   "execution_count": 8,
   "metadata": {
    "colab": {
     "base_uri": "https://localhost:8080/"
    },
    "id": "2BxMiTjpOd4z",
    "outputId": "fe3b6785-8468-4666-9c83-859341172a99"
   },
   "outputs": [
    {
     "name": "stdout",
     "output_type": "stream",
     "text": [
      "    Produto  Preço\n",
      "0     Arroz   20.0\n",
      "1    Feijão    7.5\n",
      "2  Macarrão    5.0\n"
     ]
    }
   ],
   "source": [
    "sub_df = df.loc[0:2, ['Produto', 'Preço']]\n",
    "print(sub_df)"
   ]
  },
  {
   "cell_type": "markdown",
   "metadata": {
    "id": "RjUvJ7yzOevT"
   },
   "source": [
    "### 2.7.4 Filtragem Condicional"
   ]
  },
  {
   "cell_type": "code",
   "execution_count": 9,
   "metadata": {
    "colab": {
     "base_uri": "https://localhost:8080/"
    },
    "id": "CKkhOXEEOeT7",
    "outputId": "0632cccf-f70a-449e-8464-1d93273f82c5"
   },
   "outputs": [
    {
     "name": "stdout",
     "output_type": "stream",
     "text": [
      "    Produto  Preço  Estoque\n",
      "2  Macarrão    5.0      200\n"
     ]
    }
   ],
   "source": [
    "filtro = df[df['Estoque'] > 100]\n",
    "print(filtro)"
   ]
  },
  {
   "cell_type": "markdown",
   "metadata": {
    "id": "fFuQEjX1Opsu"
   },
   "source": [
    "## 2.8 Operações e Transformações\n",
    "\n",
    "### 2.8.1 Adicionar e Remover Colunas"
   ]
  },
  {
   "cell_type": "code",
   "execution_count": 10,
   "metadata": {
    "colab": {
     "base_uri": "https://localhost:8080/"
    },
    "id": "opqr32m1OroG",
    "outputId": "2a9348ce-137c-444b-bec0-585f514e4696"
   },
   "outputs": [
    {
     "name": "stdout",
     "output_type": "stream",
     "text": [
      "    Produto  Preço  Estoque  Valor Total\n",
      "0     Arroz   20.0       50       1000.0\n",
      "1    Feijão    7.5      100        750.0\n",
      "2  Macarrão    5.0      200       1000.0\n",
      "    Produto  Preço  Estoque\n",
      "0     Arroz   20.0       50\n",
      "1    Feijão    7.5      100\n",
      "2  Macarrão    5.0      200\n"
     ]
    }
   ],
   "source": [
    "df['Valor Total'] = df['Preço'] * df['Estoque'] # cria coluna chamada 'Valor Total'\n",
    "print(df)\n",
    "df.drop('Valor Total', axis=1, inplace=True)    # remove a coluna 'Valor Total'\n",
    "print(df)"
   ]
  },
  {
   "cell_type": "markdown",
   "metadata": {
    "id": "UJ5aMDinO2Yv"
   },
   "source": [
    "### 2.8.2 Renomear Colunas"
   ]
  },
  {
   "cell_type": "code",
   "execution_count": 11,
   "metadata": {
    "colab": {
     "base_uri": "https://localhost:8080/"
    },
    "id": "HL_f7JHrO4LJ",
    "outputId": "ac51211f-2e86-469b-d391-81e21996a236"
   },
   "outputs": [
    {
     "name": "stdout",
     "output_type": "stream",
     "text": [
      "    Produto  Valor Unitário  Estoque\n",
      "0     Arroz            20.0       50\n",
      "1    Feijão             7.5      100\n",
      "2  Macarrão             5.0      200\n"
     ]
    }
   ],
   "source": [
    "df.rename(columns={'Preço': 'Valor Unitário'}, inplace=True)\n",
    "print(df)"
   ]
  },
  {
   "cell_type": "markdown",
   "metadata": {
    "id": "tVO2ux7BO62Z"
   },
   "source": [
    "### 2.8.3 Ordenação"
   ]
  },
  {
   "cell_type": "code",
   "execution_count": 12,
   "metadata": {
    "colab": {
     "base_uri": "https://localhost:8080/"
    },
    "id": "FgiPQOulO8ES",
    "outputId": "bdb2b6dd-dae9-4c37-acb5-bcab4392ffe2"
   },
   "outputs": [
    {
     "name": "stdout",
     "output_type": "stream",
     "text": [
      "    Produto  Valor Unitário  Estoque\n",
      "0     Arroz            20.0       50\n",
      "1    Feijão             7.5      100\n",
      "2  Macarrão             5.0      200\n"
     ]
    }
   ],
   "source": [
    "df_sorted = df.sort_values(by='Valor Unitário', ascending=False)\n",
    "print(df_sorted)"
   ]
  },
  {
   "cell_type": "markdown",
   "metadata": {
    "id": "M1az9S8XPLl_"
   },
   "source": [
    "### 2.8.4 Aplicar Funções"
   ]
  },
  {
   "cell_type": "code",
   "execution_count": 13,
   "metadata": {
    "colab": {
     "base_uri": "https://localhost:8080/"
    },
    "id": "XR64VYAJO91F",
    "outputId": "6d0c321b-0672-408b-c0e6-647e0da05990"
   },
   "outputs": [
    {
     "name": "stdout",
     "output_type": "stream",
     "text": [
      "    Produto  Valor Unitário  Estoque  Preço Desconto\n",
      "0     Arroz            20.0       50           18.00\n",
      "1    Feijão             7.5      100            6.75\n",
      "2  Macarrão             5.0      200            4.50\n"
     ]
    }
   ],
   "source": [
    "df['Preço Desconto'] = df['Valor Unitário'].apply(lambda x: x * 0.9)\n",
    "print(df)"
   ]
  },
  {
   "cell_type": "markdown",
   "metadata": {
    "id": "1OOg-piLPS4t"
   },
   "source": [
    "## 2.9 Agrupamento e Agregação"
   ]
  },
  {
   "cell_type": "code",
   "execution_count": 14,
   "metadata": {
    "colab": {
     "base_uri": "https://localhost:8080/"
    },
    "id": "OkkFvOY_PVNr",
    "outputId": "7da18263-e372-4f45-a9c5-dabda6bcde7c"
   },
   "outputs": [
    {
     "name": "stdout",
     "output_type": "stream",
     "text": [
      "Produto\n",
      "Arroz        50\n",
      "Feijão      100\n",
      "Macarrão    200\n",
      "Name: Estoque, dtype: int64\n",
      "          Valor Unitário  Estoque\n",
      "Produto                          \n",
      "Arroz               20.0       50\n",
      "Feijão               7.5      100\n",
      "Macarrão             5.0      200\n"
     ]
    }
   ],
   "source": [
    "grupo = df.groupby('Produto')['Estoque'].sum()\n",
    "print(grupo)\n",
    "\n",
    "df_agg = df.groupby('Produto').agg({\n",
    "    'Valor Unitário': 'mean',\n",
    "    'Estoque': 'sum'\n",
    "})\n",
    "print(df_agg)"
   ]
  },
  {
   "cell_type": "markdown",
   "metadata": {
    "id": "21GtRO4_PeyM"
   },
   "source": [
    "## 2.10 Mesclagem e Concatenação\n",
    "\n",
    "### 2.10.1 Concatenação (append)"
   ]
  },
  {
   "cell_type": "code",
   "execution_count": 15,
   "metadata": {
    "colab": {
     "base_uri": "https://localhost:8080/"
    },
    "id": "iGHnfwcfPfLP",
    "outputId": "d325c3c3-9585-4bea-882e-8a1559c1cce4"
   },
   "outputs": [
    {
     "name": "stdout",
     "output_type": "stream",
     "text": [
      "   A\n",
      "0  1\n",
      "1  2\n",
      "2  3\n",
      "3  4\n"
     ]
    }
   ],
   "source": [
    "df1 = pd.DataFrame({'A': [1, 2]})\n",
    "df2 = pd.DataFrame({'A': [3, 4]})\n",
    "df_concat = pd.concat([df1, df2], ignore_index=True)\n",
    "print(df_concat)"
   ]
  },
  {
   "cell_type": "markdown",
   "metadata": {
    "id": "_zJ5RMC_PjWf"
   },
   "source": [
    "### 2.10.2 Merge (join)"
   ]
  },
  {
   "cell_type": "code",
   "execution_count": 16,
   "metadata": {
    "colab": {
     "base_uri": "https://localhost:8080/"
    },
    "id": "ASHumQOUPkjq",
    "outputId": "8342177e-68a5-4750-b919-d775a89c7471"
   },
   "outputs": [
    {
     "name": "stdout",
     "output_type": "stream",
     "text": [
      "   Chave Valor1 Valor2\n",
      "0      1      X      Z\n",
      "1      2      Y      W\n"
     ]
    }
   ],
   "source": [
    "df_left = pd.DataFrame({'Chave': [1, 2], 'Valor1': ['X', 'Y']})\n",
    "df_right = pd.DataFrame({'Chave': [1, 2], 'Valor2': ['Z', 'W']})\n",
    "df_merged = pd.merge(df_left, df_right, on='Chave', how='inner')\n",
    "print(df_merged)"
   ]
  },
  {
   "cell_type": "markdown",
   "metadata": {
    "id": "jMFqXtXaPpi2"
   },
   "source": [
    "## 2.11 Tratamento de Valores Ausentes"
   ]
  },
  {
   "cell_type": "code",
   "execution_count": 17,
   "metadata": {
    "id": "TNm6LEhwPmIl"
   },
   "outputs": [],
   "source": [
    "df.dropna(inplace=True)      # remove linhas com NA\n",
    "# ou\n",
    "df.fillna(0, inplace=True)   # substitui NA por 0"
   ]
  },
  {
   "cell_type": "markdown",
   "metadata": {
    "id": "FiOjCZq9PuvX"
   },
   "source": [
    "## 2.12 Estatísticas e Descrições"
   ]
  },
  {
   "cell_type": "code",
   "execution_count": 18,
   "metadata": {
    "colab": {
     "base_uri": "https://localhost:8080/"
    },
    "id": "Vx1K_iVPPv7p",
    "outputId": "3d55c235-8aca-4065-c41b-548a209fe97c"
   },
   "outputs": [
    {
     "name": "stdout",
     "output_type": "stream",
     "text": [
      "10.833333333333334\n",
      "100.0\n",
      "8.036375634160796\n"
     ]
    }
   ],
   "source": [
    "print(df['Valor Unitário'].mean())       # média\n",
    "print(df['Estoque'].median())   # mediana\n",
    "print(df['Valor Unitário'].std())        # desvio padrão"
   ]
  }
 ],
 "metadata": {
  "colab": {
   "authorship_tag": "ABX9TyNUSMvPEjffi8qva2eWFNxm",
   "include_colab_link": true,
   "provenance": []
  },
  "kernelspec": {
   "display_name": "Python 3",
   "name": "python3"
  },
  "language_info": {
   "codemirror_mode": {
    "name": "ipython",
    "version": 3
   },
   "file_extension": ".py",
   "mimetype": "text/x-python",
   "name": "python",
   "nbconvert_exporter": "python",
   "pygments_lexer": "ipython3",
   "version": "3.12.1"
  }
 },
 "nbformat": 4,
 "nbformat_minor": 0
}