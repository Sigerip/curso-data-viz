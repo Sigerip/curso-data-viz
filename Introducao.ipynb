{
  "nbformat": 4,
  "nbformat_minor": 0,
  "metadata": {
    "colab": {
      "provenance": [],
      "authorship_tag": "ABX9TyMuIdYYhViyphIZFW+iUj85",
      "include_colab_link": true
    },
    "kernelspec": {
      "name": "python3",
      "display_name": "Python 3"
    },
    "language_info": {
      "name": "python"
    }
  },
  "cells": [
    {
      "cell_type": "markdown",
      "metadata": {
        "id": "view-in-github",
        "colab_type": "text"
      },
      "source": [
        "<a href=\"https://colab.research.google.com/github/Sigerip/curso-data-viz/blob/main/Introducao.ipynb\" target=\"_parent\"><img src=\"https://colab.research.google.com/assets/colab-badge.svg\" alt=\"Open In Colab\"/></a>"
      ]
    },
    {
      "cell_type": "markdown",
      "source": [
        "# Bem-vindo(a) ao Curso de Visualização Gráfica com Seaborn no Google Colab!\n",
        "\n",
        "\n",
        "Esse curso foi estruturado para guiá-lo desde os fundamentos até a criação de visualizações avançadas com Seaborn. Para garantir uma base sólida, nosso aprendizado será dividido em três módulos principais:\n",
        "\n",
        "## Módulo 1: Python Básico 🐍\n",
        "\n",
        "Este módulo é dedicado a fornecer ou revisar os conhecimentos essenciais da linguagem Python que serão fundamentais para trabalhar com dados e visualizações. Mesmo que você já tenha alguma familiaridade com Python, esta seção trás os principais conceitos chave. Abordaremos:\n",
        "\n",
        "* Tipos de Dados Fundamentais: Inteiros, floats, strings, booleanos.\n",
        "* Estruturas de Dados Essenciais: Listas, tuplas, dicionários.\n",
        "* Operadores: Aritméticos, de comparação, lógicos.\n",
        "* Estruturas de Controle de Fluxo: Condicionais (if/else), loops (for/while).\n",
        "* Funções: Definição e chamada de funções, argumentos, retorno de valores.\n",
        "* Módulos e Bibliotecas: Introdução ao conceito e como importar módulos.\n",
        "\n",
        "## Módulo 2: Pandas Básico 🐼\n",
        "\n",
        "O Pandas é a biblioteca padrão em Python para manipulação e análise de dados tabulares. Neste módulo, você aprenderá as funcionalidades cruciais para preparar e explorar seus dados antes de visualizá-los com Seaborn. Exploraremos:\n",
        "\n",
        "* Series e DataFrames: As estruturas de dados principais do Pandas.\n",
        "* Criação de DataFrames: A partir de diferentes fontes (listas, dicionários, arquivos CSV, etc.).\n",
        "* Leitura e Escrita de dados: Como importar e exportar dados em diversos formatos.\n",
        "* Inspeção de Dados: Métodos para visualizar e entender seus dados (`head()`, `tail()`, `info()`, `describe()`).\n",
        "* Seleção e filtragem de Dados: Aplicando condições para selecionar subconjuntos de dados.\n",
        "* Operaçoes e tratamento de dados: Aplicando funções e operações em colunas e linhas.\n",
        "* Agrupamento de Dados (GroupBy): Agregando dados para obter resumos e insights.\n",
        "* Junção e Concatenação de DataFrames: Combinando dados de diferentes fontes.\n",
        "* Tratamento de Valores Ausentes: Identificação e manipulação de valores nulos.\n",
        "* Estatistica Descritiva: Cálculo de estatísticas básicas (média, mediana, desvio padrão, etc.) para entender seus dados.\n",
        "\n",
        "## Módulo 3: Introdução ao Seaborn 📊\n",
        "\n",
        "Este é o coração do nosso curso! Aqui, você aprenderá a utilizar a biblioteca Seaborn para criar visualizações estatísticas informativas e esteticamente agradáveis. Cobriremos uma ampla gama de tipos de gráficos e técnicas de personalização:\n",
        "\n",
        "* Introdução ao Seaborn: Sua relação com Matplotlib e seus principais recursos.\n",
        "* Estilos e Temas: Como aplicar estilos predefinidos para melhorar a estética dos gráficos.\n",
        "* Tipos de gráficos:\n",
        "** Gráficos de distribuição (histogramas, KDE plots, box plots, violin plots)\n",
        "** Graficos de relação (line plots)\n",
        "** Gráficos de categoricos (bar plots, count plots)\n",
        "** Graficos de regressão (regression plots)\n",
        "** Facet grids: Criando múltiplos gráficos em uma grade para comparar diferentes subconjuntos de dados.\n",
        "\n",
        "## Para quem é este curso?\n",
        "\n",
        "Este curso é ideal para você se:\n",
        "\n",
        "Está começando na área de análise de dados e quer aprender a visualizar informações de forma eficaz.\n",
        "Já possui conhecimentos básicos de Python e Pandas e deseja aprimorar suas habilidades de visualização.\n",
        "É um estudante, pesquisador ou profissional que precisa apresentar dados de forma clara e impactante.\n",
        "Quer aprender a utilizar uma das bibliotecas de visualização mais populares e poderosas em Python.\n",
        "O que esperar ao final do curso?\n",
        "\n",
        "### Ao concluir este curso, você será capaz de:\n",
        "\n",
        "* Compreender os princípios fundamentais da visualização de dados.\n",
        "* Utilizar o Python e o Pandas para preparar e manipular dados para visualização.\n",
        "* Criar uma ampla variedade de gráficos informativos e atraentes com a biblioteca Seaborn.\n",
        "* Personalizar seus gráficos para comunicar seus insights de forma clara e eficaz.\n",
        "* Aplicar as técnicas aprendidas para analisar seus próprios conjuntos de dados e extrair informações valiosas.\n",
        "* Como aproveitar ao máximo este curso no Google Colab:\n",
        "\n",
        "Este curso será ministrado utilizando o Google Colab, um ambiente de desenvolvimento Python gratuito que roda diretamente no seu navegador. Isso significa que você não precisará instalar nada em seu computador!\n",
        "\n",
        "### Para aproveitar ao máximo o curso:\n",
        "\n",
        "1. Siga a ordem dos módulos: Recomendamos que você comece pelo Módulo 1 (Python Básico) para garantir uma base sólida antes de avançar para os módulos seguintes.\n",
        "2. Execute os códigos: Não apenas leia o código, mas execute cada célula no 3. Colab para ver os resultados e entender como cada função e comando funciona.\n",
        "3. Experimente e modifique: Sinta-se à vontade para alterar os parâmetros dos gráficos, testar diferentes tipos de visualizações e explorar seus próprios dados. A prática leva à perfeição!\n",
        "4. Faça perguntas: Se você tiver alguma dúvida, não hesite em perguntar nos fóruns de discussão ou canais de comunicação do curso. Estamos aqui para ajudar!\n",
        "5. Aplique o que aprendeu: Tente aplicar as técnicas de visualização em seus próprios projetos e conjuntos de dados. Isso ajudará a consolidar seu aprendizado."
      ],
      "metadata": {
        "id": "gLLf005eTh_S"
      }
    },
    {
      "cell_type": "code",
      "execution_count": null,
      "metadata": {
        "id": "PLc82zl9Td8j"
      },
      "outputs": [],
      "source": []
    }
  ]
}