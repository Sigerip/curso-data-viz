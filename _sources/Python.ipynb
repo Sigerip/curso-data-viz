{
  "nbformat": 4,
  "nbformat_minor": 0,
  "metadata": {
    "colab": {
      "provenance": [],
      "authorship_tag": "ABX9TyMOhml48O0Wn/Gkjq6IsCOC",
      "include_colab_link": true
    },
    "kernelspec": {
      "name": "python3",
      "display_name": "Python 3"
    },
    "language_info": {
      "name": "python"
    }
  },
  "cells": [
    {
      "cell_type": "markdown",
      "metadata": {
        "id": "view-in-github",
        "colab_type": "text"
      },
      "source": [
        "<a href=\"https://colab.research.google.com/github/Sigerip/curso-data-viz/blob/main/Python.ipynb\" target=\"_parent\"><img src=\"https://colab.research.google.com/assets/colab-badge.svg\" alt=\"Open In Colab\"/></a>"
      ]
    },
    {
      "cell_type": "markdown",
      "source": [
        "# Python básico\n",
        "Neste modulo, abordaremos os conceitos básicos de Python, essenciais para o entendimento do Seaborn e da análise de dados em geral. Vamos explorar os principais tipos de dados, operadores, estruturas de controle e funções.\n",
        "\n",
        "## 1. O que é Python?\n",
        "Python é uma linguagem de programação de alto nível, interpretada, de tipagem dinâmica e sintaxe simples. É muito usada em desenvolvimento web, ciência de dados, automação, scripts e muito mais.\n",
        "\n",
        "## 2. Primeiros Passos\n",
        "Usaremos o Google Colab para executar os códigos. Acesse Google Colab e crie um novo notebook.\n",
        "\n",
        "Iniciaremos com o print, uma função básica para exibir mensagens na tela. Por exemplo:"
      ],
      "metadata": {
        "id": "faRX4XUPDUs_"
      }
    },
    {
      "cell_type": "code",
      "execution_count": 1,
      "metadata": {
        "colab": {
          "base_uri": "https://localhost:8080/"
        },
        "id": "4FAfqk2HDQ_M",
        "outputId": "a834147f-f714-49b4-e286-af21634ddf99"
      },
      "outputs": [
        {
          "output_type": "stream",
          "name": "stdout",
          "text": [
            "Olá, mundo!\n"
          ]
        }
      ],
      "source": [
        "print(\"Olá, mundo!\")"
      ]
    },
    {
      "cell_type": "markdown",
      "source": [
        "## 3. Tipos de Dados Principais\n",
        "* Números: `int` (inteiro), `float` (ponto flutuante/decimal). Exemplo:"
      ],
      "metadata": {
        "id": "QrvFX5N5D0__"
      }
    },
    {
      "cell_type": "code",
      "source": [
        "idade = 30       # int\n",
        "preco = 19.90    # float\n",
        "print(type(idade))\n",
        "print(type(preco))"
      ],
      "metadata": {
        "colab": {
          "base_uri": "https://localhost:8080/"
        },
        "id": "M5Uqq4aMENBz",
        "outputId": "8c37ba9d-adc9-4ff7-9d46-c9a8892b3702"
      },
      "execution_count": 4,
      "outputs": [
        {
          "output_type": "stream",
          "name": "stdout",
          "text": [
            "<class 'int'>\n",
            "<class 'float'>\n"
          ]
        }
      ]
    },
    {
      "cell_type": "markdown",
      "source": [
        "```{note}\n",
        "Nota: O type em Python é uma função que retorna o tipo de um objeto.\n",
        "```\n",
        "* **Strings:** são texto entre aspas, podendo ser aspas simples ou duplas. Podem conter letras, números e símbolos. Exemplo:"
      ],
      "metadata": {
        "id": "rEDwXicZEtaK"
      }
    },
    {
      "cell_type": "code",
      "source": [
        "nome = \"Alice\"\n",
        "mensagem = 'Olá, mundo!'\n",
        "print(type(nome))\n",
        "print(type(mensagem))"
      ],
      "metadata": {
        "colab": {
          "base_uri": "https://localhost:8080/"
        },
        "id": "cGNoq_sMFAMF",
        "outputId": "f55c87fb-b15d-44ab-c42a-3f199c5e5343"
      },
      "execution_count": 5,
      "outputs": [
        {
          "output_type": "stream",
          "name": "stdout",
          "text": [
            "<class 'str'>\n",
            "<class 'str'>\n"
          ]
        }
      ]
    },
    {
      "cell_type": "markdown",
      "source": [
        "* **Booleanos (bool):** True (verdadeiro), False (falso). Serve para representar estados lógicos, como ligado/desligado, verdadeiro/falso. Exemplo:"
      ],
      "metadata": {
        "id": "zQfB0jUYGITy"
      }
    },
    {
      "cell_type": "code",
      "source": [
        "ligado = True\n",
        "desligado = False\n",
        "print(type(ligado))"
      ],
      "metadata": {
        "colab": {
          "base_uri": "https://localhost:8080/"
        },
        "id": "sjqMsU3-GNQA",
        "outputId": "b1b710b8-d21e-43fa-91ff-35d860700a88"
      },
      "execution_count": 7,
      "outputs": [
        {
          "output_type": "stream",
          "name": "stdout",
          "text": [
            "<class 'bool'>\n"
          ]
        }
      ]
    },
    {
      "cell_type": "markdown",
      "source": [
        "* **Listas:** sequência ordenada, representadas por colchetes. Podem conter diferentes tipos de dados. Exemplo:"
      ],
      "metadata": {
        "id": "7mu0SoLzGZJW"
      }
    },
    {
      "cell_type": "code",
      "source": [
        "frutas = [\"maçã\", \"banana\", \"laranja\"]\n",
        "numeros = [1, 2, 3, 4, 5]\n",
        "print(type(frutas))\n",
        "print(frutas, numeros)"
      ],
      "metadata": {
        "colab": {
          "base_uri": "https://localhost:8080/"
        },
        "id": "FV8WVienGfU_",
        "outputId": "9d9e55a7-10cf-463c-c247-288a153110a6"
      },
      "execution_count": 9,
      "outputs": [
        {
          "output_type": "stream",
          "name": "stdout",
          "text": [
            "<class 'list'>\n",
            "['maçã', 'banana', 'laranja'] [1, 2, 3, 4, 5]\n"
          ]
        }
      ]
    },
    {
      "cell_type": "markdown",
      "source": [
        "* **Tuplas:** sequência imutável, sendo assim, não podem ser alteradas após a criação. Representadas por parênteses. Exemplo:"
      ],
      "metadata": {
        "id": "k_zVchmYGq0L"
      }
    },
    {
      "cell_type": "code",
      "source": [
        "coordenadas = (10.0, 20.0)\n",
        "print(type(coordenadas))\n",
        "print(coordenadas)"
      ],
      "metadata": {
        "colab": {
          "base_uri": "https://localhost:8080/"
        },
        "id": "zHf0o_iDGlhL",
        "outputId": "685737b5-3189-4edd-fbb8-5c40126cc764"
      },
      "execution_count": 10,
      "outputs": [
        {
          "output_type": "stream",
          "name": "stdout",
          "text": [
            "<class 'tuple'>\n",
            "(10.0, 20.0)\n"
          ]
        }
      ]
    },
    {
      "cell_type": "markdown",
      "source": [
        "* **Dicionários:** pares chave-valor, representados por chaves. Permitem armazenar dados de forma estruturada. Exemplo:"
      ],
      "metadata": {
        "id": "2upe7VlnG5kD"
      }
    },
    {
      "cell_type": "code",
      "source": [
        "pessoas = {\n",
        "    \"pessoa1\": {\"nome\": \"Alice\", \"idade\": 30},\n",
        "    \"pessoa2\": {\"nome\": \"Bob\", \"idade\": 25}\n",
        "}\n",
        "print(type(pessoas))\n",
        "print(pessoas)"
      ],
      "metadata": {
        "colab": {
          "base_uri": "https://localhost:8080/"
        },
        "id": "VoKoPth2G-kL",
        "outputId": "82f4b540-a222-492d-b28a-cb6dff08d81b"
      },
      "execution_count": 11,
      "outputs": [
        {
          "output_type": "stream",
          "name": "stdout",
          "text": [
            "<class 'dict'>\n",
            "{'pessoa1': {'nome': 'Alice', 'idade': 30}, 'pessoa2': {'nome': 'Bob', 'idade': 25}}\n"
          ]
        }
      ]
    },
    {
      "cell_type": "markdown",
      "source": [
        "## 4. Operadores Básicos\n",
        "\n",
        "* **Aritméticos:** `+`, `-`, `*`, `/`, `//` (divisão inteira), `%` (módulo/resto da divisão), `**` (potência).\n",
        "\n",
        "* **Comparação:** igual `==`, diferente `!=`, maior que`>`, menor que `<`, maior ou igual`>=`, menor ou igual `<=`\n",
        "\n",
        "```{note}\n",
        "Um igual `=` é atribuição, dois iguais `==` é comparação.\n",
        "```\n",
        "\n",
        "* **Lógicos:** `and`, `or`, `not`."
      ],
      "metadata": {
        "id": "8jmQd3yBHl0c"
      }
    },
    {
      "cell_type": "code",
      "source": [
        "x = 10\n",
        "y = 3\n",
        "print(x + y)   # 13\n",
        "print(x ** y)  # 1000\n",
        "print(x > y and y > 0)  # True"
      ],
      "metadata": {
        "colab": {
          "base_uri": "https://localhost:8080/"
        },
        "id": "EpMU3gd6H3SI",
        "outputId": "0d2079ab-7da1-4c61-ada0-ecaa7b4a7d36"
      },
      "execution_count": 12,
      "outputs": [
        {
          "output_type": "stream",
          "name": "stdout",
          "text": [
            "13\n",
            "1000\n",
            "True\n"
          ]
        }
      ]
    },
    {
      "cell_type": "markdown",
      "source": [
        "## 5. Estruturas de Controle\n",
        "\n",
        "5.1 Condicionais"
      ],
      "metadata": {
        "id": "dlnXRgYUH9uz"
      }
    },
    {
      "cell_type": "code",
      "source": [
        "idade = 18\n",
        "if idade >= 18:\n",
        "    print(\"Você é maior de idade.\")\n",
        "else:\n",
        "    print(\"Você é menor de idade.\")"
      ],
      "metadata": {
        "colab": {
          "base_uri": "https://localhost:8080/"
        },
        "id": "invpRYBuIAwq",
        "outputId": "e9c57aa1-f708-4649-f79d-6de54adbb36e"
      },
      "execution_count": 13,
      "outputs": [
        {
          "output_type": "stream",
          "name": "stdout",
          "text": [
            "Você é maior de idade.\n"
          ]
        }
      ]
    },
    {
      "cell_type": "markdown",
      "source": [
        "5.2 Laços de Repetição\n",
        "\n",
        "* **for:** permite iterar sobre uma sequência (lista, tupla, string)."
      ],
      "metadata": {
        "id": "vAM8t3kMIDKP"
      }
    },
    {
      "cell_type": "code",
      "source": [
        "print(\"Imprime números sequenciais.\")\n",
        "for i in range(5):\n",
        "    print(i)\n",
        "print(\"Lista de frutas definida anteriormente: \")\n",
        "for fruta in frutas:\n",
        "    print(fruta)"
      ],
      "metadata": {
        "colab": {
          "base_uri": "https://localhost:8080/"
        },
        "id": "ZmqiwVDMIFS1",
        "outputId": "2928794f-4a61-44eb-8710-15b1b80d51e3"
      },
      "execution_count": 16,
      "outputs": [
        {
          "output_type": "stream",
          "name": "stdout",
          "text": [
            "Imprime números de 0 a 4.\n",
            "0\n",
            "1\n",
            "2\n",
            "3\n",
            "4\n",
            "Lista de frutas definida anteriormente: \n",
            "maçã\n",
            "banana\n",
            "laranja\n"
          ]
        }
      ]
    },
    {
      "cell_type": "markdown",
      "source": [
        "```\n",
        "O python inicia a contagem do zero, por isso não foi até o 5 e sim até o 4.\n",
        "```\n",
        "* **while:** executa enquanto a condição for verdadeira."
      ],
      "metadata": {
        "id": "DEmnVir8IIR6"
      }
    },
    {
      "cell_type": "code",
      "source": [
        "print(\"Conta até o contador chegar a 5 e para.\")\n",
        "contador = 0\n",
        "while contador < 5:\n",
        "    print(contador)\n",
        "    contador += 1"
      ],
      "metadata": {
        "colab": {
          "base_uri": "https://localhost:8080/"
        },
        "id": "0NrQ2EgzJOTl",
        "outputId": "8947397b-1be4-458a-ae00-7c642d88ce57"
      },
      "execution_count": 18,
      "outputs": [
        {
          "output_type": "stream",
          "name": "stdout",
          "text": [
            "Conta até o contador chegar a 5 e para\n",
            "0\n",
            "1\n",
            "2\n",
            "3\n",
            "4\n"
          ]
        }
      ]
    },
    {
      "cell_type": "markdown",
      "source": [
        "## 6. Funções\n",
        "\n",
        "Definição e chamada de funções:"
      ],
      "metadata": {
        "id": "oBZQygMGJcPa"
      }
    },
    {
      "cell_type": "code",
      "source": [
        "def soma(a, b):\n",
        "    return a + b\n",
        "\n",
        "resultado = soma(2, 3)\n",
        "print(resultado)"
      ],
      "metadata": {
        "colab": {
          "base_uri": "https://localhost:8080/"
        },
        "id": "tq0bbaOEJiCa",
        "outputId": "4bb9ec2b-b7d5-43de-f611-2aee26eccdcd"
      },
      "execution_count": 19,
      "outputs": [
        {
          "output_type": "stream",
          "name": "stdout",
          "text": [
            "5\n"
          ]
        }
      ]
    },
    {
      "cell_type": "markdown",
      "source": [
        "## 7. Módulos e Pacotes\n",
        "\n",
        "Instalar pacotes, exemplo com o pacote `seaborn`:\n",
        "```\n",
        "No Google Colab, quando você quer instalar uma biblioteca, você usa o símbolo % (ou !) antes do comando.\n",
        "```"
      ],
      "metadata": {
        "id": "xYvzprEvJmPF"
      }
    },
    {
      "cell_type": "code",
      "source": [
        "%pip install seaborn"
      ],
      "metadata": {
        "colab": {
          "base_uri": "https://localhost:8080/"
        },
        "id": "6R90b_TzJnkZ",
        "outputId": "e0cf8cad-4ec6-4985-84ba-49d6dbc050d5"
      },
      "execution_count": 20,
      "outputs": [
        {
          "output_type": "stream",
          "name": "stdout",
          "text": [
            "Requirement already satisfied: seaborn in /usr/local/lib/python3.11/dist-packages (0.13.2)\n",
            "Requirement already satisfied: numpy!=1.24.0,>=1.20 in /usr/local/lib/python3.11/dist-packages (from seaborn) (2.0.2)\n",
            "Requirement already satisfied: pandas>=1.2 in /usr/local/lib/python3.11/dist-packages (from seaborn) (2.2.2)\n",
            "Requirement already satisfied: matplotlib!=3.6.1,>=3.4 in /usr/local/lib/python3.11/dist-packages (from seaborn) (3.10.0)\n",
            "Requirement already satisfied: contourpy>=1.0.1 in /usr/local/lib/python3.11/dist-packages (from matplotlib!=3.6.1,>=3.4->seaborn) (1.3.1)\n",
            "Requirement already satisfied: cycler>=0.10 in /usr/local/lib/python3.11/dist-packages (from matplotlib!=3.6.1,>=3.4->seaborn) (0.12.1)\n",
            "Requirement already satisfied: fonttools>=4.22.0 in /usr/local/lib/python3.11/dist-packages (from matplotlib!=3.6.1,>=3.4->seaborn) (4.57.0)\n",
            "Requirement already satisfied: kiwisolver>=1.3.1 in /usr/local/lib/python3.11/dist-packages (from matplotlib!=3.6.1,>=3.4->seaborn) (1.4.8)\n",
            "Requirement already satisfied: packaging>=20.0 in /usr/local/lib/python3.11/dist-packages (from matplotlib!=3.6.1,>=3.4->seaborn) (24.2)\n",
            "Requirement already satisfied: pillow>=8 in /usr/local/lib/python3.11/dist-packages (from matplotlib!=3.6.1,>=3.4->seaborn) (11.1.0)\n",
            "Requirement already satisfied: pyparsing>=2.3.1 in /usr/local/lib/python3.11/dist-packages (from matplotlib!=3.6.1,>=3.4->seaborn) (3.2.3)\n",
            "Requirement already satisfied: python-dateutil>=2.7 in /usr/local/lib/python3.11/dist-packages (from matplotlib!=3.6.1,>=3.4->seaborn) (2.8.2)\n",
            "Requirement already satisfied: pytz>=2020.1 in /usr/local/lib/python3.11/dist-packages (from pandas>=1.2->seaborn) (2025.2)\n",
            "Requirement already satisfied: tzdata>=2022.7 in /usr/local/lib/python3.11/dist-packages (from pandas>=1.2->seaborn) (2025.2)\n",
            "Requirement already satisfied: six>=1.5 in /usr/local/lib/python3.11/dist-packages (from python-dateutil>=2.7->matplotlib!=3.6.1,>=3.4->seaborn) (1.17.0)\n"
          ]
        }
      ]
    },
    {
      "cell_type": "markdown",
      "source": [
        "Importar módulo, exemplo com o módulo `seaborn`:"
      ],
      "metadata": {
        "id": "5rB86z2iKqL-"
      }
    },
    {
      "cell_type": "code",
      "source": [
        "import seaborn"
      ],
      "metadata": {
        "id": "fr511TLFKqus"
      },
      "execution_count": 21,
      "outputs": []
    }
  ]
}