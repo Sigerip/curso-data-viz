{
  "nbformat": 4,
  "nbformat_minor": 0,
  "metadata": {
    "colab": {
      "provenance": []
    },
    "kernelspec": {
      "name": "python3",
      "display_name": "Python 3"
    },
    "language_info": {
      "name": "python"
    }
  },
  "cells": [
    {
      "cell_type": "markdown",
      "source": [
        "# Capítulo: Matplotlib"
      ],
      "metadata": {
        "id": "yZgUTKIKey2R"
      }
    },
    {
      "cell_type": "markdown",
      "source": [
        "MATPLOLIB é uma biblioteca de software para criação de gráficos e visualizações de dados em geral, feita para e da linguagem de programação Python e sua extensão de matemática NumPy.\n",
        "\n",
        "Originalmente criada pelo biólogo e neurocientista americano John D. Hunter, a biblioteca hoje possui uma comunidade ativa atuando em seu desenvolvimento e é distibuída sob uma licença BSD. O programador Michael Droetboom foi nomeado o líder do projeto um pouco antes da morte do criador John Hunter em agosto de 2012, e logo o cientista Thomas Caswell se juntou a ele.\n",
        "\n",
        "Oferece uma interface de programação orientada a objetos para incluir gráficos em aplicações usando toolkits de interface gráfica, como Tkinter, WxPython, Qt ou GTK.\n",
        "\n",
        "SciPy faz uso do Matplotlib.\n",
        "\n",
        "Matplotlib 2.0.x suporta Python nas versões 2.7 até 3.6. O suporte ao Python 3 começou com o Matplotlib 1.2, e o Matplotlib 1.4 foi o último a suportar o Python 2.6. O projeto se comprometeu a não dar mais suporte ao Python 2 a partir de 2020, assinando o Python 3 statement."
      ],
      "metadata": {
        "id": "Hmic9eImfDNn"
      }
    },
    {
      "cell_type": "markdown",
      "source": [
        "## Anatomia de um Gráfico Matplotlib"
      ],
      "metadata": {
        "id": "cbVykXE8eoTN"
      }
    },
    {
      "cell_type": "markdown",
      "source": [
        "Antes de começarmos a criar gráficos, é importante entender a estrutura de um gráfico Matplotlib:\n",
        "\n",
        "- Figure: O contêiner de nível superior que pode conter múltiplos eixos (plots)\n",
        "    \n",
        "- Axes: O espaço onde os dados são plotados\n",
        "\n",
        "- Axis: As linhas que delimitam os limites do gráfico (eixos x e y)\n",
        "    \n",
        "- Artist: Tudo o que você vê no gráfico (linhas, textos, legendas, etc.)"
      ],
      "metadata": {
        "id": "PbSRRgpgefCg"
      }
    },
    {
      "cell_type": "code",
      "source": [
        "# Criar uma figura e um conjunto de eixos\n",
        "fig, ax = plt.subplots(figsize=(10, 6))\n",
        "\n",
        "# Gerar dados\n",
        "x = np.linspace(0, 10, 100)\n",
        "y = np.sin(x)\n",
        "\n",
        "# Plotar dados\n",
        "ax.plot(x, y, label='sen(x)')\n",
        "\n",
        "# Adicionar elementos ao gráfico\n",
        "ax.set_title('Função Seno', fontsize=15)\n",
        "ax.set_xlabel('x', fontsize=12)\n",
        "ax.set_ylabel('sen(x)', fontsize=12)\n",
        "ax.legend(fontsize=12)\n",
        "ax.grid(True)\n",
        "\n",
        "plt.show()"
      ],
      "metadata": {
        "id": "CIp2-o7yeeRo"
      },
      "execution_count": null,
      "outputs": []
    },
    {
      "cell_type": "markdown",
      "source": [
        "## Tipos Básicos de Gráficos"
      ],
      "metadata": {
        "id": "dPGJslRKeV3P"
      }
    },
    {
      "cell_type": "markdown",
      "source": [
        "Matplotlib suporta uma grande variedade de tipos de gráficos. Vamos explorar os mais comuns:"
      ],
      "metadata": {
        "id": "0qvwYIPoeS-C"
      }
    },
    {
      "cell_type": "markdown",
      "source": [
        "### Gráfico de Linhas"
      ],
      "metadata": {
        "id": "ZDsPwvcPeQve"
      }
    },
    {
      "cell_type": "code",
      "source": [
        "# Dados\n",
        "x = np.linspace(0, 2*np.pi, 100)\n",
        "y1 = np.sin(x)\n",
        "y2 = np.cos(x)\n",
        "\n",
        "# Criar gráfico\n",
        "fig, ax = plt.subplots(figsize=(10, 6))\n",
        "ax.plot(x, y1, label='sen(x)', color='blue', linewidth=2)\n",
        "ax.plot(x, y2, label='cos(x)', color='red', linewidth=2, linestyle='--')\n",
        "\n",
        "# Personalizar gráfico\n",
        "ax.set_title('Funções Seno e Cosseno', fontsize=15)\n",
        "ax.set_xlabel('x', fontsize=12)\n",
        "ax.set_ylabel('y', fontsize=12)\n",
        "ax.legend(fontsize=12)\n",
        "ax.grid(True)\n",
        "ax.set_ylim(-1.5, 1.5)\n",
        "\n",
        "plt.show()"
      ],
      "metadata": {
        "id": "q4lj4rO2eP9f"
      },
      "execution_count": null,
      "outputs": []
    },
    {
      "cell_type": "markdown",
      "source": [
        "### Gráfico de Dispersão (Scatter)"
      ],
      "metadata": {
        "id": "hWPxOarxeL-z"
      }
    },
    {
      "cell_type": "code",
      "source": [
        "# Dados\n",
        "np.random.seed(42)\n",
        "x = np.random.rand(50)\n",
        "y = np.random.rand(50)\n",
        "colors = np.random.rand(50)\n",
        "sizes = 1000 * np.random.rand(50)\n",
        "\n",
        "# Criar gráfico\n",
        "fig, ax = plt.subplots(figsize=(10, 6))\n",
        "scatter = ax.scatter(x, y, c=colors, s=sizes, alpha=0.6, cmap='viridis')\n",
        "\n",
        "# Personalizar gráfico\n",
        "ax.set_title('Gráfico de Dispersão', fontsize=15)\n",
        "ax.set_xlabel('Eixo X', fontsize=12)\n",
        "ax.set_ylabel('Eixo Y', fontsize=12)\n",
        "ax.grid(True)\n",
        "\n",
        "# Adicionar barra de cores\n",
        "cbar = plt.colorbar(scatter)\n",
        "cbar.set_label('Valores de Cor', fontsize=12)\n",
        "\n",
        "plt.show()"
      ],
      "metadata": {
        "id": "_kpL0y9veI3e"
      },
      "execution_count": null,
      "outputs": []
    },
    {
      "cell_type": "markdown",
      "source": [
        "### Gráfico de Barras"
      ],
      "metadata": {
        "id": "coNwwyoSeGg5"
      }
    },
    {
      "cell_type": "code",
      "source": [
        "# Dados\n",
        "categorias = ['A', 'B', 'C', 'D', 'E']\n",
        "valores = [25, 40, 30, 55, 15]\n",
        "\n",
        "# Criar gráfico\n",
        "fig, ax = plt.subplots(figsize=(10, 6))\n",
        "bars = ax.bar(categorias, valores, color='skyblue', edgecolor='navy')\n",
        "\n",
        "# Personalizar gráfico\n",
        "ax.set_title('Gráfico de Barras', fontsize=15)\n",
        "ax.set_xlabel('Categorias', fontsize=12)\n",
        "ax.set_ylabel('Valores', fontsize=12)\n",
        "ax.grid(True, axis='y', linestyle='--', alpha=0.7)\n",
        "\n",
        "# Adicionar valores acima das barras\n",
        "for bar in bars:\n",
        "    height = bar.get_height()\n",
        "    ax.text(bar.get_x() + bar.get_width()/2., height + 1,\n",
        "            f'{height}', ha='center', va='bottom', fontsize=12)\n",
        "\n",
        "plt.show()"
      ],
      "metadata": {
        "id": "3UFLCJP_eEmx"
      },
      "execution_count": null,
      "outputs": []
    },
    {
      "cell_type": "markdown",
      "source": [
        "### Histograma"
      ],
      "metadata": {
        "id": "TK7qKMkaeCOr"
      }
    },
    {
      "cell_type": "code",
      "source": [
        "# Dados\n",
        "np.random.seed(42)\n",
        "data = np.random.normal(0, 1, 1000)  # Distribuição normal\n",
        "\n",
        "# Criar gráfico\n",
        "fig, ax = plt.subplots(figsize=(10, 6))\n",
        "n, bins, patches = ax.hist(data, bins=30, color='skyblue', edgecolor='black', alpha=0.7)\n",
        "\n",
        "# Personalizar gráfico\n",
        "ax.set_title('Histograma', fontsize=15)\n",
        "ax.set_xlabel('Valores', fontsize=12)\n",
        "ax.set_ylabel('Frequência', fontsize=12)\n",
        "ax.grid(True, axis='y', linestyle='--', alpha=0.7)\n",
        "\n",
        "# Adicionar linha de densidade\n",
        "from scipy import stats\n",
        "x = np.linspace(-4, 4, 100)\n",
        "y = stats.norm.pdf(x, 0, 1) * len(data) * (bins[1] - bins[0])\n",
        "ax.plot(x, y, 'r-', linewidth=2, label='Distribuição Normal')\n",
        "ax.legend(fontsize=12)\n",
        "\n",
        "plt.show()"
      ],
      "metadata": {
        "id": "E3KRpY2feAS6"
      },
      "execution_count": null,
      "outputs": []
    },
    {
      "cell_type": "markdown",
      "source": [
        "### Gráfico de Pizza"
      ],
      "metadata": {
        "id": "WnSYuWjsd88a"
      }
    },
    {
      "cell_type": "code",
      "source": [
        "# Dados\n",
        "categorias = ['A', 'B', 'C', 'D', 'E']\n",
        "valores = [25, 40, 30, 55, 15]\n",
        "\n",
        "# Criar gráfico\n",
        "fig, ax = plt.subplots(figsize=(10, 6))\n",
        "wedges, texts, autotexts = ax.pie(valores, labels=categorias, autopct='%1.1f%%',\n",
        "                                  startangle=90, shadow=True,\n",
        "                                  wedgeprops={'edgecolor': 'black'})\n",
        "\n",
        "# Personalizar gráfico\n",
        "ax.set_title('Gráfico de Pizza', fontsize=15)\n",
        "plt.setp(autotexts, size=12, weight='bold')\n",
        "ax.axis('equal')  # Garante que o gráfico seja circular\n",
        "\n",
        "plt.show()"
      ],
      "metadata": {
        "id": "1rA_eCFPd6gO"
      },
      "execution_count": null,
      "outputs": []
    },
    {
      "cell_type": "markdown",
      "source": [
        "### Subplots: Múltiplos Gráficos"
      ],
      "metadata": {
        "id": "ZoM4P20gd1ov"
      }
    },
    {
      "cell_type": "markdown",
      "source": [
        "Matplotlib permite criar múltiplos gráficos em uma única figura:"
      ],
      "metadata": {
        "id": "szfLQFsudzN5"
      }
    },
    {
      "cell_type": "code",
      "source": [
        "# Dados\n",
        "x = np.linspace(0, 10, 100)\n",
        "y1 = np.sin(x)\n",
        "y2 = np.cos(x)\n",
        "y3 = np.tan(x)\n",
        "y4 = x**2\n",
        "\n",
        "# Criar figura com subplots\n",
        "fig, axs = plt.subplots(2, 2, figsize=(12, 10))\n",
        "\n",
        "# Gráfico 1: Seno\n",
        "axs[0, 0].plot(x, y1, 'b-')\n",
        "axs[0, 0].set_title('Função Seno')\n",
        "axs[0, 0].set_ylim(-1.5, 1.5)\n",
        "axs[0, 0].grid(True)\n",
        "\n",
        "# Gráfico 2: Cosseno\n",
        "axs[0, 1].plot(x, y2, 'r-')\n",
        "axs[0, 1].set_title('Função Cosseno')\n",
        "axs[0, 1].set_ylim(-1.5, 1.5)\n",
        "axs[0, 1].grid(True)\n",
        "\n",
        "# Gráfico 3: Tangente\n",
        "axs[1, 0].plot(x, y3, 'g-')\n",
        "axs[1, 0].set_title('Função Tangente')\n",
        "axs[1, 0].set_ylim(-5, 5)\n",
        "axs[1, 0].grid(True)\n",
        "\n",
        "# Gráfico 4: Quadrática\n",
        "axs[1, 1].plot(x, y4, 'y-')\n",
        "axs[1, 1].set_title('Função Quadrática')\n",
        "axs[1, 1].grid(True)\n",
        "\n",
        "# Ajustar layout\n",
        "plt.tight_layout()\n",
        "plt.show()"
      ],
      "metadata": {
        "id": "uBI6ZJ0mdxxe"
      },
      "execution_count": null,
      "outputs": []
    },
    {
      "cell_type": "markdown",
      "source": [
        "### Personalização de Gráficos"
      ],
      "metadata": {
        "id": "tkqLM_3tds7-"
      }
    },
    {
      "cell_type": "markdown",
      "source": [
        "Matplotlib oferece amplas opções de personalização:"
      ],
      "metadata": {
        "id": "6pSGhH0ldqFP"
      }
    },
    {
      "cell_type": "code",
      "source": [
        "# Dados\n",
        "x = np.linspace(0, 10, 100)\n",
        "y = np.sin(x)\n",
        "\n",
        "# Criar gráfico com estilo personalizado\n",
        "plt.figure(figsize=(12, 6))\n",
        "\n",
        "# Definir estilo\n",
        "plt.style.use('seaborn-v0_8-darkgrid')\n",
        "\n",
        "# Plotar dados\n",
        "plt.plot(x, y, 'r-', linewidth=2, label='sen(x)')\n",
        "\n",
        "# Personalizar título e rótulos\n",
        "plt.title('Função Seno Personalizada', fontsize=20, fontweight='bold', pad=20)\n",
        "plt.xlabel('Eixo X', fontsize=14, fontweight='bold', labelpad=10)\n",
        "plt.ylabel('Eixo Y', fontsize=14, fontweight='bold', labelpad=10)\n",
        "\n",
        "# Personalizar eixos\n",
        "plt.xticks(fontsize=12)\n",
        "plt.yticks(fontsize=12)\n",
        "plt.grid(True, linestyle='--', alpha=0.7)\n",
        "\n",
        "# Adicionar anotações\n",
        "plt.annotate('Pico', xy=(np.pi/2, 1), xytext=(np.pi/2 + 1, 0.8),\n",
        "             arrowprops=dict(facecolor='black', shrink=0.05, width=1.5),\n",
        "             fontsize=12)\n",
        "\n",
        "# Adicionar legenda\n",
        "plt.legend(fontsize=14, loc='lower right')\n",
        "\n",
        "# Adicionar texto\n",
        "plt.text(7, 0.5, r'$\\sin(x)$', fontsize=20)\n",
        "\n",
        "# Adicionar linhas de referência\n",
        "plt.axhline(y=0, color='k', linestyle='-', alpha=0.3)\n",
        "plt.axvline(x=np.pi, color='k', linestyle='-', alpha=0.3)\n",
        "\n",
        "# Limitar eixos\n",
        "plt.xlim(0, 10)\n",
        "plt.ylim(-1.5, 1.5)\n",
        "\n",
        "plt.tight_layout()\n",
        "plt.show()"
      ],
      "metadata": {
        "id": "HMRIP9Vddoz9"
      },
      "execution_count": null,
      "outputs": []
    },
    {
      "cell_type": "markdown",
      "source": [
        "### Salvando Gráficos"
      ],
      "metadata": {
        "id": "o6UcEEFKdiMd"
      }
    },
    {
      "cell_type": "markdown",
      "source": [
        "Matplotlib permite salvar gráficos em vários formatos:"
      ],
      "metadata": {
        "id": "cbPgspW2dhtK"
      }
    },
    {
      "cell_type": "code",
      "execution_count": null,
      "metadata": {
        "id": "CI7I2L1odFM7"
      },
      "outputs": [],
      "source": [
        "# Criar um gráfico simples\n",
        "plt.figure(figsize=(10, 6))\n",
        "plt.plot(np.random.randn(50).cumsum(), 'r-')\n",
        "plt.title('Gráfico de Exemplo')\n",
        "plt.grid(True)\n",
        "\n",
        "# Salvar em diferentes formatos\n",
        "plt.savefig('grafico.png', dpi=300, bbox_inches='tight')  # PNG\n",
        "plt.savefig('grafico.pdf', bbox_inches='tight')  # PDF\n",
        "plt.savefig('grafico.svg', bbox_inches='tight')  # SVG\n",
        "plt.savefig('grafico.jpg', dpi=300, bbox_inches='tight')  # JPG\n",
        "\n",
        "plt.show()"
      ]
    },
    {
      "cell_type": "markdown",
      "source": [
        "## Conclusão"
      ],
      "metadata": {
        "id": "6c7OkXKhdZQj"
      }
    },
    {
      "cell_type": "markdown",
      "source": [
        "Matplotlib é uma biblioteca poderosa e flexível para visualização de dados em Python. Ela serve como base para bibliotecas mais especializadas como Seaborn, que exploraremos no próximo capítulo. Dominar os fundamentos do Matplotlib é essencial para criar visualizações eficazes e personalizadas.\n",
        "\n",
        "No próximo capítulo, veremos como o Seaborn se baseia no Matplotlib para fornecer uma interface de alto nível para criar gráficos estatísticos atraentes com menos código."
      ],
      "metadata": {
        "id": "w4IedCWcdVRO"
      }
    }
  ]
}